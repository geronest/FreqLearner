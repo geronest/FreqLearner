{
 "cells": [
  {
   "cell_type": "code",
   "execution_count": 12,
   "metadata": {
    "collapsed": true
   },
   "outputs": [],
   "source": [
    "import numpy as np\n",
    "import csv\n",
    "import sys\n",
    "reload(sys)\n",
    "sys.setdefaultencoding('utf-8')\n"
   ]
  },
  {
   "cell_type": "code",
   "execution_count": 16,
   "metadata": {
    "collapsed": false
   },
   "outputs": [],
   "source": [
    "class fqd_elem:\n",
    "    def __init__(self, word):\n",
    "        self.w = word\n",
    "        self.mean_kor = list()\n",
    "        self.mean_eng = list()\n",
    "        self.exam_stc = list()\n",
    "        self.num_ref = 0\n",
    "\n",
    "    def namew(self, word):\n",
    "        self.w = word\n",
    "    \n",
    "    def ref_inc(self):\n",
    "        self.num_ref += 1\n",
    "    \n",
    "    def inf_add(self, part, info):\n",
    "        if part == \"KOR\":\n",
    "            self.mean_kor.append(info)\n",
    "        elif part == \"ENG\":\n",
    "            self.mean_eng.append(info)\n",
    "        elif part == \"STC\":\n",
    "            self.exam_stc.append(info)\n",
    "    \n",
    "    def inf_mod(self, part, ind, info):\n",
    "        if part == \"KOR\":\n",
    "            self.mean_kor[ind] = info\n",
    "        elif part == \"ENG\":\n",
    "            self.mean_eng[ind] = info\n",
    "        elif part == \"STC\":\n",
    "            self.exam_stc[ind] = info\n",
    "    \n",
    "    def num_ref_mod(self, num):\n",
    "        self.num_ref = num\n",
    "        \n",
    "    def info_print(self):\n",
    "        print (\"WORD : \" + self.w)\n",
    "        print (\"Num. of ref : %d\".format(self.num_ref))\n",
    "        for i in len(self.mean_kor):\n",
    "            print (\"KOR %d: %s\".format(i+1, self.mean_kor[i]))\n",
    "        for i in len(self.mean_eng):\n",
    "            print (\"ENG %d: %s\".format(i+1, self.mean_eng[i]))\n",
    "        for i in len(self.exam_stc):\n",
    "            print (\"STC %d: %s\".format(i+1, self.exam_stc[i]))\n",
    "    \n",
    "class fqdict:\n",
    "    filename = \"\"\n",
    "    \n",
    "    def __init__(self):\n",
    "        self.filename = \"fqdata.txt\"\n",
    "        self.fqdict = dict()\n",
    "    \n",
    "    def currentfile(self):\n",
    "        print (\"Currently %s is loaded\".format(self.filename))\n",
    "        \n",
    "    def write_save(self, fn = filename):\n",
    "        f = open(\"./\" + fn, 'w')\n",
    "        for w in list(self.fqdict.keys()):\n",
    "            f.write('#####\\n')\n",
    "            f.write('$WRD %s\\n'.format(w))\n",
    "            f.write('$REF %d\\n'.format(self.fqdict[w].num_ref))\n",
    "            for i in len(self.fqdict[w].mean_kor):\n",
    "                f.write('$KOR %s\\n'.format(self.fqdict[w].mean_kor[i]))\n",
    "            for i in len(self.fqdict[w].mean_eng):\n",
    "                f.write('$ENG %s\\n'.format(self.fqdict[w].mean_eng[i]))\n",
    "            for i in len(self.fqdict[w].exam_stc):\n",
    "                f.write('$STC %s\\n'.format(self.fqdict[w].exam_stc[i]))\n",
    "    \n",
    "    def chk_noword(self, nw):\n",
    "        if nw == \"\":\n",
    "            print (\"No $WRD found!\\nThis may cause error afterwards.\")\n",
    "            \n",
    "    def chk_ask(self, qst):\n",
    "        ask = \"\"\n",
    "        while ask != 'y' or ask != 'n' or ask != 'Y' or ask != 'N':\n",
    "            ask = raw_input(qst)\n",
    "        return ask\n",
    "    \n",
    "    def read_load(self, fn = filename):\n",
    "        try:\n",
    "            f = open(\"./\" + fn, 'r')\n",
    "            newword = \"\"\n",
    "            for line in f:\n",
    "                if line[0] == '#':\n",
    "                    chk_noword(newword)\n",
    "                    newword = \"\"\n",
    "                elif line[0:4] == '$WRD':\n",
    "                    newword = line[5:]\n",
    "                    if len(newword) > 0:\n",
    "                        self.fqdict[newword] = fqd_elem(newword)\n",
    "                elif line[0:4] == '$KOR':\n",
    "                    chk_noword(newword)\n",
    "                    newinfo = line[5:]\n",
    "                    if len(newinfo) > 0:\n",
    "                        self.fqdict[newword].inf_add(\"KOR\", newinfo)\n",
    "                elif line[0:4] == '$ENG':\n",
    "                    chk_noword(newword)\n",
    "                    newinfo = line[5:]\n",
    "                    if len(newinfo) > 0:\n",
    "                        self.fqdict[newword].inf_add(\"ENG\", newinfo)\n",
    "                elif line[0:4] == '$STC':\n",
    "                    chk_noword(newword)\n",
    "                    newinfo = line[5:]\n",
    "                    if len(newinfo) > 0:\n",
    "                        self.fqdict[newword].inf_add(\"STC\", newinfo)\n",
    "                elif line[0:4] == '$REF':\n",
    "                    chk_noword(newword)\n",
    "                    newinfo = line[5:]\n",
    "                    if len(newinfo) > 0:\n",
    "                        self.fqdict[newword].num_ref_mod(int(newinfo))\n",
    "                else:\n",
    "                    print (\"End of the line or something else happened??\")\n",
    "        except:\n",
    "            print (\"No %s found, so created one.\\nIf you already have database with different name,\\nuse LOAD.\".format(fn))\n",
    "            f = open(\"./\" + fn, 'w')\n",
    "    \n",
    "    def newload(self):\n",
    "        write_save()\n",
    "        self.filename = raw_input(\"what is the name of the file?: \")\n",
    "        read_load()\n",
    "    \n",
    "    def fqsearch(self):\n",
    "        word = raw_input(\"Search: \")\n",
    "        if word in self.fqdict:\n",
    "            self.fqdict[word].ref_inc()\n",
    "            self.fqdict[word].info_print()\n",
    "            addinfo = chk_ask(\"Add info to %s?(y/n): \".format(word))\n",
    "            if addinfo:\n",
    "                while(True):\n",
    "                    addinfo = raw_input(\"KOR mean(Q to skip): \")\n",
    "                    if addinfo == 'Q':\n",
    "                        break\n",
    "                    else:\n",
    "                        self.fqdict[word].inf_add(\"KOR\", addinfo)\n",
    "                while(True):\n",
    "                    addinfo = raw_input(\"ENG mean(Q to skip): \")\n",
    "                    if addinfo == 'Q':\n",
    "                        break\n",
    "                    else:\n",
    "                        self.fqdict[word].inf_add(\"ENG\", addinfo)\n",
    "                while(True):\n",
    "                    addinfo = raw_input(\"Example sentence(Q to skip): \")\n",
    "                    if addinfo == 'Q':\n",
    "                        break\n",
    "                    else:\n",
    "                        self.fqdict[word].inf_add(\"STC\", addinfo)\n",
    "        else:\n",
    "            print (\"Word %s not found in the dataset\".format(word))\n",
    "            addword = chk_ask(\"Insert %s into the dataset?(y/n): \".format(word))\n",
    "            if addword:\n",
    "                self.fqdict[word] = fqd_elem(word)\n",
    "                while(True):\n",
    "                    addinfo = raw_input(\"KOR mean(Q to skip): \")\n",
    "                    if addinfo == 'Q':\n",
    "                        break\n",
    "                    else:\n",
    "                        self.fqdict[word].inf_add(\"KOR\", addinfo)\n",
    "                while(True):\n",
    "                    addinfo = raw_input(\"ENG mean(Q to skip): \")\n",
    "                    if addinfo == 'Q':\n",
    "                        break\n",
    "                    else:\n",
    "                        self.fqdict[word].inf_add(\"ENG\", addinfo)\n",
    "                while(True):\n",
    "                    addinfo = raw_input(\"Example sentence(Q to skip): \")\n",
    "                    if addinfo == 'Q':\n",
    "                        break\n",
    "                    else:\n",
    "                        self.fqdict[word].inf_add(\"STC\", addinfo)"
   ]
  },
  {
   "cell_type": "code",
   "execution_count": null,
   "metadata": {
    "collapsed": false
   },
   "outputs": [],
   "source": [
    "fqd = fqdict()\n",
    "while(True):\n",
    "    print (\"### freqlearner ###\")\n",
    "    fqd.currentfile()\n",
    "    print (\"1: Search / Insert word\")\n",
    "    print (\"2: Add info to a word\")\n",
    "    print (\"3: Save\")\n",
    "    print (\"4: Save current & Load\")\n",
    "    print (\"Q: Quit\")\n",
    "    command = raw_input(\"\\nChoose what to do: \")\n",
    "    \n",
    "    if command == \"Q\":\n",
    "        break\n",
    "    elif command == '1':\n",
    "        fqd.fqsearch()\n",
    "    elif command == '2':\n",
    "        fqd.fqsearch()\n",
    "    elif command == '3':\n",
    "        fqd.fqsearch()\n",
    "    elif command == '4':\n",
    "        fqd.fqsearch()\n",
    "    else:\n",
    "        print (\"Wrong input, try again\\n\")\n",
    "        \n",
    "        "
   ]
  },
  {
   "cell_type": "code",
   "execution_count": 1,
   "metadata": {
    "collapsed": true
   },
   "outputs": [],
   "source": [
    "a = dict()"
   ]
  },
  {
   "cell_type": "code",
   "execution_count": 2,
   "metadata": {
    "collapsed": true
   },
   "outputs": [],
   "source": [
    "a['name'] = 3"
   ]
  },
  {
   "cell_type": "code",
   "execution_count": 3,
   "metadata": {
    "collapsed": false
   },
   "outputs": [
    {
     "data": {
      "text/plain": [
       "{'name': 3}"
      ]
     },
     "execution_count": 3,
     "metadata": {},
     "output_type": "execute_result"
    }
   ],
   "source": [
    "a"
   ]
  },
  {
   "cell_type": "code",
   "execution_count": 5,
   "metadata": {
    "collapsed": false
   },
   "outputs": [
    {
     "name": "stdout",
     "output_type": "stream",
     "text": [
      "hello?3\n",
      "3\n"
     ]
    }
   ],
   "source": [
    "print input(\"hello?\")"
   ]
  },
  {
   "cell_type": "code",
   "execution_count": 6,
   "metadata": {
    "collapsed": false
   },
   "outputs": [
    {
     "data": {
      "text/plain": [
       "3"
      ]
     },
     "execution_count": 6,
     "metadata": {},
     "output_type": "execute_result"
    }
   ],
   "source": [
    "idx = 'name'\n",
    "a[idx]"
   ]
  },
  {
   "cell_type": "code",
   "execution_count": 8,
   "metadata": {
    "collapsed": false
   },
   "outputs": [],
   "source": [
    "a[\"name2\"] = 5"
   ]
  },
  {
   "cell_type": "code",
   "execution_count": 9,
   "metadata": {
    "collapsed": false
   },
   "outputs": [
    {
     "data": {
      "text/plain": [
       "3"
      ]
     },
     "execution_count": 9,
     "metadata": {},
     "output_type": "execute_result"
    }
   ],
   "source": [
    "len(\"123\")"
   ]
  },
  {
   "cell_type": "code",
   "execution_count": 10,
   "metadata": {
    "collapsed": true
   },
   "outputs": [],
   "source": [
    "wa = \"$wa\""
   ]
  },
  {
   "cell_type": "code",
   "execution_count": 11,
   "metadata": {
    "collapsed": false
   },
   "outputs": [
    {
     "data": {
      "text/plain": [
       "'$wa'"
      ]
     },
     "execution_count": 11,
     "metadata": {},
     "output_type": "execute_result"
    }
   ],
   "source": [
    "wa"
   ]
  },
  {
   "cell_type": "code",
   "execution_count": null,
   "metadata": {
    "collapsed": true
   },
   "outputs": [],
   "source": []
  }
 ],
 "metadata": {
  "kernelspec": {
   "display_name": "Python 2",
   "language": "python",
   "name": "python2"
  },
  "language_info": {
   "codemirror_mode": {
    "name": "ipython",
    "version": 2
   },
   "file_extension": ".py",
   "mimetype": "text/x-python",
   "name": "python",
   "nbconvert_exporter": "python",
   "pygments_lexer": "ipython2",
   "version": "2.7.11"
  }
 },
 "nbformat": 4,
 "nbformat_minor": 0
}
